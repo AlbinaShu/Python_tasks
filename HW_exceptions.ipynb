{
 "cells": [
  {
   "cell_type": "markdown",
   "id": "6a042e0e-5782-4bc9-8fdd-1092d86871a7",
   "metadata": {},
   "source": [
    "<b>Задание 1. Напишите программу, которая принимает два числа от пользователя и выводит результат их деления. Используйте обработку исключений, чтобы корректно обработать ситуацию, когда пользователь вводит 0 в качестве второго числа.</b>\n",
    "\n"
   ]
  },
  {
   "cell_type": "code",
   "execution_count": 1,
   "id": "25916ffd-d816-481c-9de9-d934566ee107",
   "metadata": {},
   "outputs": [
    {
     "name": "stdin",
     "output_type": "stream",
     "text": [
      "Введите делимое число:  1\n",
      "Введите число-делитель:  2\n"
     ]
    },
    {
     "name": "stdout",
     "output_type": "stream",
     "text": [
      "Результат деления: 0.5\n"
     ]
    }
   ],
   "source": [
    "try:\n",
    "    a = float(input(\"Введите делимое число: \"))\n",
    "    b = float(input(\"Введите число-делитель: \"))\n",
    "\n",
    "    c = a / b  \n",
    "    \n",
    "except ZeroDivisionError:\n",
    "    print(\"Ошибка деления на 0!\")\n",
    "    \n",
    "else:\n",
    "    print(f\"Результат деления: {c}\")\n"
   ]
  },
  {
   "cell_type": "markdown",
   "id": "288b2b53-9d65-45cf-b670-fc671448858b",
   "metadata": {},
   "source": [
    "<b>Задание 2. Расширьте предыдущую программу, чтобы она также обрабатывала ситуацию, когда пользователь вводит строку вместо числа. Используйте несколько блоков except для обработки разных типов исключений.</b>"
   ]
  },
  {
   "cell_type": "code",
   "execution_count": 2,
   "id": "f07cea5d-2ae8-4ced-95a6-ef8871ebe588",
   "metadata": {},
   "outputs": [
    {
     "name": "stdin",
     "output_type": "stream",
     "text": [
      "Введите делимое число:  dfbf\n"
     ]
    },
    {
     "name": "stdout",
     "output_type": "stream",
     "text": [
      "Ошибка, введите корректное число!\n"
     ]
    }
   ],
   "source": [
    "try:\n",
    "    a = float(input(\"Введите делимое число: \"))\n",
    "    b = float(input(\"Введите число-делитель: \"))\n",
    "\n",
    "    c = a / b  \n",
    "\n",
    "except ValueError:\n",
    "    print(\"Ошибка, введите корректное число!\")\n",
    "    \n",
    "except ZeroDivisionError:\n",
    "    print(\"Ошибка деления на 0!\")\n",
    "    \n",
    "else:\n",
    "    print(f\"Результат деления: {c}\")\n"
   ]
  },
  {
   "cell_type": "markdown",
   "id": "3694f640-bb1d-4403-b2d2-3e40663aa643",
   "metadata": {},
   "source": [
    "<b>Задание 3. Напишите программу, которая вычисляет сумму списка целых чисел. Создайте свои собственные классы исключений для обработки ситуаций, когда в списке есть хотя бы одно чётное или отрицательное число. Используйте оператор raise для генерации исключений.</b>"
   ]
  },
  {
   "cell_type": "code",
   "execution_count": 5,
   "id": "d7bccd95-1dd1-484f-9e29-765ca2d35d81",
   "metadata": {},
   "outputs": [
    {
     "name": "stdout",
     "output_type": "stream",
     "text": [
      "Сумма списка чисел: 9\n"
     ]
    }
   ],
   "source": [
    "class EvenNumberError(Exception):\n",
    "    pass\n",
    "class NegativeNumberError(Exception):\n",
    "    pass\n",
    "\n",
    "\n",
    "def list_sum(numbers):\n",
    "    for num in numbers:\n",
    "        if num % 2 == 0:\n",
    "            raise EvenNumberError(\"В списке есть четное число\") \n",
    "        if num < 0:\n",
    "            raise NegativeNumberError(\"В списке есть отрицательное число\")\n",
    "    return(sum(numbers))\n",
    "\n",
    "try:\n",
    "    list_1 = [1,3,5]\n",
    "    sum_result = list_sum(list_1)\n",
    "    print(f\"Сумма списка чисел: {sum_result}\")\n",
    "\n",
    "except EvenNumberError as e:\n",
    "    print(e)\n",
    "    \n",
    "except NegativeNumberError as e:\n",
    "    print(e)    "
   ]
  },
  {
   "cell_type": "markdown",
   "id": "c0b77541-d26d-4871-9f2d-07536fe213c0",
   "metadata": {},
   "source": [
    "<b>Задание 4. Напишите программу, которая принимает от пользователя индекс элемента списка и выводит значение этого элемента. Используйте обработку исключений для корректной обработки ситуаций, когда пользователь вводит индекс, выходящий за пределы списка.</b>"
   ]
  },
  {
   "cell_type": "code",
   "execution_count": 41,
   "id": "4411ae3b-c91f-4f6c-a432-00aa906a2416",
   "metadata": {},
   "outputs": [
    {
     "name": "stdin",
     "output_type": "stream",
     "text": [
      "Введите индекс элемента списка (от 0 до 3):  1\n"
     ]
    },
    {
     "name": "stdout",
     "output_type": "stream",
     "text": [
      "Элемент с индексом 1: тетрадь\n"
     ]
    }
   ],
   "source": [
    "list_1 = [\"книга\",\"тетрадь\",\"ручка\",\"карандаш\"]\n",
    "\n",
    "try:\n",
    "    index = int(input(f\"Введите индекс элемента списка (от 0 до {}): \".format(len(list_1) - 1)))\n",
    "    \n",
    "\n",
    "    element = list_1[index]\n",
    "    print(\"Элемент с индексом {}: {}\".format(index, element))\n",
    "    \n",
    "except ValueError:\n",
    "    print(\"Ошибка: введите целое число!\")\n",
    "    \n",
    "except IndexError:\n",
    "    print(\"Ошибка: индекс выходит за пределы списка!\")\n",
    "    \n",
    "except Exception as e:\n",
    "    print(\"Произошла непредвиденная ошибка:\", str(e))"
   ]
  },
  {
   "cell_type": "markdown",
   "id": "a71cdc21-7f25-4159-af1c-0118888054cd",
   "metadata": {},
   "source": [
    "<b>Задание 5. Напишите программу, которая принимает от пользователя строку и преобразует её в число с плавающей точкой. Используйте обработку исключений для корректной обработки ситуаций, когда пользователь вводит строку, которую невозможно преобразовать в число.</b>"
   ]
  },
  {
   "cell_type": "code",
   "execution_count": null,
   "id": "f2bb0e47-5cce-4e47-8c69-81dbc2308cdd",
   "metadata": {},
   "outputs": [],
   "source": [
    "def convert_to_float():\n",
    "    try:\n",
    "        a = input(\"Введите число:\")\n",
    "        float_num = float(a)\n",
    "\n",
    "        print(f\"Число преобразовано: {float_num}\")\n",
    "\n",
    "    except ValueError:\n",
    "        print(\"Ошибка преобразования строки в число с плавающей точкой\")\n",
    "\n",
    "    except Exception as e:\n",
    "        print(\"Произошла непредвиденная ошибка:\", str(e))\n",
    "\n",
    "convert_to_float()\n",
    "    "
   ]
  },
  {
   "cell_type": "markdown",
   "id": "bd0aecc6-c039-4c9e-8554-54f6a746443f",
   "metadata": {},
   "source": [
    "<b>Задание 6. Напишите программу, которая импортирует модуль math и использует функцию sqrt() для вычисления квадратного корня числа, введённого пользователем. Используйте обработку исключений для корректной обработки ситуаций, когда модуль math не может быть импортирован или функция sqrt() не может быть вызвана для отрицательного числа.</b>"
   ]
  },
  {
   "cell_type": "code",
   "execution_count": 45,
   "id": "d40fd3bf-0c3b-430b-89f7-799c73b52b2f",
   "metadata": {},
   "outputs": [
    {
     "name": "stdin",
     "output_type": "stream",
     "text": [
      "Введите число:  -3\n"
     ]
    },
    {
     "name": "stdout",
     "output_type": "stream",
     "text": [
      "Ошибка вычисления корня, введите положительное число\n"
     ]
    }
   ],
   "source": [
    "try:\n",
    "    import math\n",
    "\n",
    "    class SqrtError(Exception):\n",
    "        pass\n",
    "\n",
    "    try:\n",
    "        a = float(input(\"Введите число: \"))\n",
    "        if a >= 0:\n",
    "            sqrt_a = math.sqrt(a)\n",
    "            print(f\"Корень числа: {sqrt_a}\")\n",
    "        else:\n",
    "            raise SqrtError(\"Ошибка вычисления корня, введите положительное число\")\n",
    "\n",
    "    except SqrtError as e:\n",
    "        print(e)\n",
    "\n",
    "except ImportError:\n",
    "    print(\"Ошибка импортирования модуля\")\n",
    "\n",
    "except Exception as e:\n",
    "    print(\"Произошла непредвиденная ошибка:\", str(e))"
   ]
  },
  {
   "cell_type": "code",
   "execution_count": null,
   "id": "58216de7-6a7c-44c1-9ab9-4fabe537421f",
   "metadata": {},
   "outputs": [],
   "source": []
  }
 ],
 "metadata": {
  "kernelspec": {
   "display_name": "Python [conda env:base] *",
   "language": "python",
   "name": "conda-base-py"
  },
  "language_info": {
   "codemirror_mode": {
    "name": "ipython",
    "version": 3
   },
   "file_extension": ".py",
   "mimetype": "text/x-python",
   "name": "python",
   "nbconvert_exporter": "python",
   "pygments_lexer": "ipython3",
   "version": "3.13.5"
  }
 },
 "nbformat": 4,
 "nbformat_minor": 5
}
