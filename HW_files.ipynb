{
 "cells": [
  {
   "metadata": {},
   "cell_type": "markdown",
   "source": "#### Задание 1. Создайте программу, которая копирует содержимое файла source.txt в новый файл destination.txt.",
   "id": "ccd507107c2e33b8"
  },
  {
   "metadata": {
    "ExecuteTime": {
     "end_time": "2025-10-10T21:30:15.824188Z",
     "start_time": "2025-10-10T21:30:15.817972Z"
    }
   },
   "cell_type": "code",
   "source": [
    "try:\n",
    "    with open('/Users/macbook/Documents/Python_HW/Python_tasks/Файлы_к_ДЗ_2/source.txt', 'r') as s:\n",
    "        content = s.readlines()\n",
    "\n",
    "    with open('/Users/macbook/Documents/Python_HW/Python_tasks/Файлы_к_ДЗ_2/destination.txt', 'w') as w:\n",
    "        w.write(''.join(content))\n",
    "except FileNotFoundError:\n",
    "    print(\"Файл не найден!\")"
   ],
   "id": "7822486d2ea61a66",
   "outputs": [],
   "execution_count": 6
  },
  {
   "metadata": {},
   "cell_type": "markdown",
   "source": "#### Задание 2. Напишите программу, которая считывает файл prices.txt, содержащий информацию о товарах: название, количество и цену, и подсчитывает общую стоимость заказа.",
   "id": "5b140fc0ad1f4159"
  },
  {
   "metadata": {
    "ExecuteTime": {
     "end_time": "2025-10-10T21:58:15.566473Z",
     "start_time": "2025-10-10T21:58:15.558929Z"
    }
   },
   "cell_type": "code",
   "source": [
    "total = 0\n",
    "with open ('Файлы_к_ДЗ_2/prices.txt', 'r') as f:\n",
    "    for line in f:\n",
    "        name, quantity, price  = line.strip().split('\\t')\n",
    "\n",
    "        total += int(quantity) * float(price)\n",
    "\n",
    "    print(total)\n"
   ],
   "id": "532f907bdc485616",
   "outputs": [
    {
     "name": "stdout",
     "output_type": "stream",
     "text": [
      "650.0\n"
     ]
    }
   ],
   "execution_count": 12
  },
  {
   "metadata": {},
   "cell_type": "markdown",
   "source": "#### Задание 3.Напишите программу, которая подсчитывает количество слов в текстовом файле text_file.txt и выводит результат на экран.",
   "id": "b3bc1507815f5108"
  },
  {
   "metadata": {
    "ExecuteTime": {
     "end_time": "2025-10-10T22:19:55.718897Z",
     "start_time": "2025-10-10T22:19:55.711835Z"
    }
   },
   "cell_type": "code",
   "source": [
    "words_count = 0\n",
    "with open ('Файлы_к_ДЗ_2/text_file.txt', 'r') as f:\n",
    "    content = f.readlines()\n",
    "\n",
    "    for line in content:\n",
    "        lines = line.replace(\"—\", \"\")\n",
    "        words = lines.split(' ')\n",
    "        words_count += len(words)\n",
    "print(words_count)\n"
   ],
   "id": "7dd36c99becef7df",
   "outputs": [
    {
     "name": "stdout",
     "output_type": "stream",
     "text": [
      "21\n"
     ]
    }
   ],
   "execution_count": 24
  },
  {
   "metadata": {},
   "cell_type": "markdown",
   "source": "#### Задание 4. Создайте программу, которая считывает строки из файла input.txt, сохраняет только уникальные строки и записывает их в новый файл unique_output.txt.",
   "id": "203c1119d45d7f6e"
  },
  {
   "metadata": {
    "ExecuteTime": {
     "end_time": "2025-10-11T09:20:18.762309Z",
     "start_time": "2025-10-11T09:20:18.747753Z"
    }
   },
   "cell_type": "code",
   "source": [
    "def save_unique_lines(input_file, output_file):\n",
    "    unique_lines = set()\n",
    "\n",
    "    # Читаем исходный файл\n",
    "    with open('Файлы_к_ДЗ_2/input.txt', 'r') as f:\n",
    "        for line in f:\n",
    "            # Добавляем строку в множество (автоматически убирает дубликаты)\n",
    "            unique_lines.add(line.strip())  # strip() убирает лишние пробелы и переносы\n",
    "\n",
    "    # Записываем уникальные строки в новый файл\n",
    "    with open(output_file, 'w') as f:\n",
    "        for line in unique_lines:\n",
    "            f.write(line + '\\n')  # добавляем перенос строки\n",
    "\n",
    "save_unique_lines('input.txt', 'unique_output.txt')"
   ],
   "id": "1f316d0149fdf183",
   "outputs": [],
   "execution_count": 29
  }
 ],
 "metadata": {
  "kernelspec": {
   "display_name": "Python 3",
   "language": "python",
   "name": "python3"
  },
  "language_info": {
   "codemirror_mode": {
    "name": "ipython",
    "version": 2
   },
   "file_extension": ".py",
   "mimetype": "text/x-python",
   "name": "python",
   "nbconvert_exporter": "python",
   "pygments_lexer": "ipython2",
   "version": "2.7.6"
  }
 },
 "nbformat": 4,
 "nbformat_minor": 5
}
